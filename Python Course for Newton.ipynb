{
 "cells": [
  {
   "cell_type": "markdown",
   "metadata": {},
   "source": [
    "# Python Course for Newton"
   ]
  },
  {
   "cell_type": "markdown",
   "metadata": {},
   "source": [
    "By Christiaan van den Bogaard, Rogier Monshouwer, Ron van Bree, Gijs Beernink and Dion Ikink\n",
    "\n",
    "Email: C.h.m.vandenbogaard@student.utwente.nl"
   ]
  },
  {
   "cell_type": "markdown",
   "metadata": {},
   "source": [
    "## Running Python files"
   ]
  },
  {
   "cell_type": "markdown",
   "metadata": {},
   "source": [
    "Python files usually written in a text editor and executed in your command line:\n",
    "\n",
    "    python myprogram.py\n",
    "\n",
    "Although installing Python and and many of its packages is fairly simple, we will be using a Python distribution with many features pre-installed: Anaconda. Anaconda aims to provide you with everything you need (in terms of Python) to analyze and manipulate data. Additionally, Anaconda includes Jupyter, the notebook environment that this file is running in. Jupyter allows you to write and run code and visualize data in your browser. You can alternate code with text or graphics, as seen in this document.\n",
    "\n",
    "You can find some exercises we prepared for you below. Each exercise attempts to explain a small portion of Python's capabilities. Please approach us if you have any questions.\n",
    "\n",
    "If you decide to continue using Python (which we highly suggest), you can find more information here:\n",
    "https://docs.python.org/3/faq/windows.html"
   ]
  },
  {
   "cell_type": "markdown",
   "metadata": {},
   "source": [
    "## Python Syntax"
   ]
  },
  {
   "cell_type": "markdown",
   "metadata": {},
   "source": [
    "Python syntax strongly resembles the English language. One of the main goals of the programming language is to result in readable and concise code with little to no overhead. Python uses whitespace to denote code blocks, whereas many other languages use curly brackets (`{}`) to do that. A function in Python is defined by the `def` keyword, followed by the functions parameters between parentheses and a colon.\n",
    "\n",
    "The keyword `return` allows a function to essentially export the final value of its calculation to be used later. The example below contains two functions, the first of which returns its final value while the other does not.  "
   ]
  },
  {
   "cell_type": "code",
   "execution_count": 114,
   "metadata": {},
   "outputs": [
    {
     "name": "stdout",
     "output_type": "stream",
     "text": [
      "10\n",
      "None\n"
     ]
    }
   ],
   "source": [
    "def function(x):\n",
    "    return x * 2\n",
    "\n",
    "def function_2(x):\n",
    "    x * 2\n",
    "\n",
    "final_value = function(5)\n",
    "final_value_2 = function_2(5)\n",
    "\n",
    "print(final_value)\n",
    "print(final_value_2)"
   ]
  },
  {
   "cell_type": "markdown",
   "metadata": {},
   "source": [
    "Lines of code that are supposed to interpreted as one block have the same amount of leading spaces, usually incremented by 4 between different code blocks. In this programming environment (Jupyter), a single TAB is converted to 4 spaces. There is no symbol to denote the end of a line (e.g. the `;` in Java and C), so simply pressing Enter starts a new line of code."
   ]
  },
  {
   "cell_type": "markdown",
   "metadata": {},
   "source": [
    "## Modules"
   ]
  },
  {
   "cell_type": "markdown",
   "metadata": {},
   "source": [
    "Python supports the importing of code from other files, similar to packages in MATLAB. In Python, such a file is called a module. Modules allow you to logically organize your code, which makes it easier to understand. For this course we will be utilizing some functions from the `math` package. In order to access those, we need to import it into our own document first. This can be done using the `import` statement as defined below. In this case all functions and variables from the math module are imported, as denoted by `*`. Usage of more modules is not within the scope of this course, so you wont have to bother importing more. Make sure you imported math by executing the code below. You can do this by pressing the play button on the toolbar! It should print a message if you executed the code.\n"
   ]
  },
  {
   "cell_type": "markdown",
   "metadata": {},
   "source": [
    "![title](images/Jupyter_run.png)"
   ]
  },
  {
   "cell_type": "code",
   "execution_count": 3,
   "metadata": {},
   "outputs": [
    {
     "name": "stdout",
     "output_type": "stream",
     "text": [
      "You imported the math library!\n"
     ]
    }
   ],
   "source": [
    "from math import *\n",
    "print(\"You imported the math library!\")"
   ]
  },
  {
   "cell_type": "markdown",
   "metadata": {},
   "source": [
    "## Arithmetic"
   ]
  },
  {
   "cell_type": "markdown",
   "metadata": {},
   "source": [
    "Basic arithmetic operations in Python are similar to MATLAB."
   ]
  },
  {
   "cell_type": "code",
   "execution_count": 4,
   "metadata": {},
   "outputs": [
    {
     "name": "stdout",
     "output_type": "stream",
     "text": [
      "x = 12\n",
      "y = 27\n",
      "y = 1.0\n"
     ]
    }
   ],
   "source": [
    "# This is a comment\n",
    "\n",
    "x = 5 * 2 + 2\n",
    "print('x =', x)\n",
    "\n",
    "# Exponents are defined using ** and not ^!\n",
    "y = 3 ** 3\n",
    "print('y =', y)\n",
    "\n",
    "# With the imported math module we can make easily use variables such as pi, or functions such as cos.\n",
    "z = cos(2 * pi)\n",
    "print('y =', z)"
   ]
  },
  {
   "cell_type": "markdown",
   "metadata": {},
   "source": [
    "Recall from the slides that there are different Number types. For simplicity we will distinguish between:\n",
    "* Integers (int): Postive or negative whole numbers\n",
    "* Float (float): Real numbers written with decimals \n",
    "* Long (long): Integer of infinite size. \n",
    "\n",
    "Play around a bit to get acquainted with number types and calculations!"
   ]
  },
  {
   "cell_type": "code",
   "execution_count": 22,
   "metadata": {},
   "outputs": [
    {
     "name": "stdout",
     "output_type": "stream",
     "text": [
      "c = 35\n",
      "d = 35.0\n",
      "c is of type <class 'int'>\n",
      "d is of type <class 'float'>\n",
      "c is now of type <class 'float'>\n"
     ]
    }
   ],
   "source": [
    "# This is an int!\n",
    "a = 5 \n",
    "\n",
    "# This is also an int!\n",
    "b = 7 \n",
    "\n",
    "# This should stay an int (a whole number)\n",
    "c = a * b\n",
    "print('c =', c)\n",
    "\n",
    "# Multiplying an int with a float makes it a float (a decimal number)\n",
    "float_value = 1.0\n",
    "d = c *  float_value\n",
    "print('d =', d)\n",
    "\n",
    "# You can check the type of a variable!\n",
    "print('c is of type', type(c))\n",
    "print('d is of type', type(d))\n",
    "\n",
    "# You can also change the type of a variable by casting it to another type\n",
    "# The line below changes variable 'c' to a float type number\n",
    "c = float(c)\n",
    "print('c is now of type', type(c))"
   ]
  },
  {
   "cell_type": "markdown",
   "metadata": {},
   "source": [
    "Variables can also hold boolean values: `True` and `False` (capitalization is important). Using booleans it is possible to do comparisons and evaluate logic statements. Instead of using symbol operators like `&&` and `||`, it uses the keywords `and` and `or`, respectively. The code below shows basic logical expressions in Python."
   ]
  },
  {
   "cell_type": "code",
   "execution_count": 30,
   "metadata": {},
   "outputs": [
    {
     "name": "stdout",
     "output_type": "stream",
     "text": [
      "(True AND False) evaluates to False\n",
      "(True OR False) evaluates to True \n",
      "\n",
      "5 < 4 is False\n",
      "5 <= 4 is False\n",
      "5 >= 4 is True\n",
      "5 > 4 is True\n",
      "5 == 4 is False\n",
      "5 != 4 is True\n"
     ]
    }
   ],
   "source": [
    "# This should return False: True && False is False\n",
    "boolean1 = True\n",
    "boolean2 = boolean1 and False \n",
    "print('(True AND False) evaluates to', boolean2)\n",
    "\n",
    "# This should return True: True || False is True\n",
    "boolean3 = boolean1 or False \n",
    "print('(True OR False) evaluates to', boolean3, '\\n')\n",
    "\n",
    "# The following statements compare numeric values\n",
    "\n",
    "# Less than\n",
    "bool = 5 < 4\n",
    "print('5 < 4 is', bool)\n",
    "\n",
    "# Less than or equal to\n",
    "bool = 5 <= 4\n",
    "print('5 <= 4 is', bool)\n",
    "\n",
    "# Greater than\n",
    "bool = 5 > 4\n",
    "print('5 >= 4 is', bool)\n",
    "\n",
    "# Greater than or equal to\n",
    "bool = 5 >= 4\n",
    "print('5 > 4 is', bool)\n",
    "\n",
    "# Equal to\n",
    "bool = 5 == 4\n",
    "print('5 == 4 is', bool)\n",
    "\n",
    "# Not equal to\n",
    "bool = 5 != 4\n",
    "print('5 != 4 is', bool)"
   ]
  },
  {
   "cell_type": "markdown",
   "metadata": {},
   "source": [
    "### Lists"
   ]
  },
  {
   "cell_type": "markdown",
   "metadata": {},
   "source": [
    "A list is a collection of multiple elements. You initialize (create) and access lists by using square brackets, `[]`."
   ]
  },
  {
   "cell_type": "code",
   "execution_count": 55,
   "metadata": {},
   "outputs": [
    {
     "name": "stdout",
     "output_type": "stream",
     "text": [
      "[1, 2, 3, 4]\n",
      "2\n",
      "4\n",
      "The length of example_list is 4\n",
      "[]\n"
     ]
    }
   ],
   "source": [
    "# This creates a list variable\n",
    "example_list = [1, 2, 3, 4]\n",
    "print(example_list)\n",
    "\n",
    "# To get a value from a list, you use square brackets again\n",
    "second = example_list[1]\n",
    "print(second)\n",
    "\n",
    "# To get the last value from a list, you can use index -1\n",
    "last = example_list[-1]\n",
    "print(last)\n",
    "\n",
    "# To get the number of elements in a list, you use the 'len(...)' function\n",
    "length = len(example_list)\n",
    "print('The length of example_list is', length)\n",
    "\n",
    "# This creates an empty list\n",
    "empty_list = []\n",
    "print(empty_list)"
   ]
  },
  {
   "cell_type": "markdown",
   "metadata": {},
   "source": [
    "As opposed to lists in MATLAB, the index of the first element of a list in Python is 0."
   ]
  },
  {
   "cell_type": "code",
   "execution_count": 45,
   "metadata": {
    "scrolled": true
   },
   "outputs": [
    {
     "data": {
      "text/plain": [
       "1"
      ]
     },
     "execution_count": 45,
     "metadata": {},
     "output_type": "execute_result"
    }
   ],
   "source": [
    "# The first element has index 0, so this should return the first element of the list: 1\n",
    "# example_list = [1, 2, 3, 4]\n",
    "example_list[0]"
   ]
  },
  {
   "cell_type": "markdown",
   "metadata": {},
   "source": [
    "Instead of taking a single element from a list, you can also take a certain part (a subset) of it. This is called slicing. The syntax for slicing is `list[start:end]`, where `start` and `end` are the indices of the first and last element of your subset. Please note that the element at index `end` will **not** be included in the subset."
   ]
  },
  {
   "cell_type": "code",
   "execution_count": 56,
   "metadata": {},
   "outputs": [
    {
     "name": "stdout",
     "output_type": "stream",
     "text": [
      "[1, 2, 3]\n",
      "[2, 3, 4]\n"
     ]
    }
   ],
   "source": [
    "# We want the first three elements of example_list\n",
    "first_three = example_list[0:3]\n",
    "print(first_three)\n",
    "\n",
    "# We want the last three elements of example_list\n",
    "last_three = example_list[1:4]\n",
    "print(last_three)"
   ]
  },
  {
   "cell_type": "markdown",
   "metadata": {},
   "source": [
    "The elements in a list do not have to share the same data type. You can add strings and floats to a list of integers."
   ]
  },
  {
   "cell_type": "code",
   "execution_count": 59,
   "metadata": {},
   "outputs": [
    {
     "name": "stdout",
     "output_type": "stream",
     "text": [
      "[1, 'a', 1.0]\n",
      "[<class 'int'>, <class 'str'>, <class 'float'>]\n"
     ]
    }
   ],
   "source": [
    "example_list = [1, 'a', 1.0]\n",
    "print(example_list)\n",
    "\n",
    "# This list contains the types of all the elements in example_list\n",
    "example_list_types = [type(y) for y in example_list]\n",
    "print(example_list_types)"
   ]
  },
  {
   "cell_type": "markdown",
   "metadata": {},
   "source": [
    "### Manipulating lists"
   ]
  },
  {
   "cell_type": "markdown",
   "metadata": {},
   "source": [
    "The `list` data type has some useful built-in functions to manipulate the data they contain. "
   ]
  },
  {
   "cell_type": "code",
   "execution_count": 65,
   "metadata": {},
   "outputs": [
    {
     "name": "stdout",
     "output_type": "stream",
     "text": [
      "[1, 2, 3, 4, 5]\n",
      "[1, 2, 3, 4, 4, 5]\n",
      "[1, 2, 3, 4, 5]\n"
     ]
    }
   ],
   "source": [
    "example_list = [1, 2, 3, 4]\n",
    "\n",
    "# You can add a value to the end of a list\n",
    "example_list.append(5)\n",
    "print(example_list)\n",
    "\n",
    "# You can add a value at a certain index of the list\n",
    "# Remember that index 3 means the 4th element of the list\n",
    "example_list.insert(3, 4)\n",
    "print(example_list)\n",
    "\n",
    "# You can remove a value from a list\n",
    "# This function removes the value between parentheses the first time it occurs in the list\n",
    "example_list.remove(4)\n",
    "print(example_list)"
   ]
  },
  {
   "cell_type": "markdown",
   "metadata": {},
   "source": [
    "### Dictionaries"
   ]
  },
  {
   "cell_type": "markdown",
   "metadata": {},
   "source": [
    "Dictionaries are similar to lists, except each element is now a key-value pair. In MATLAB, a dictionary is called a Map. A dictionary in Python is represented with curly brackets, `{}`."
   ]
  },
  {
   "cell_type": "code",
   "execution_count": 66,
   "metadata": {},
   "outputs": [
    {
     "name": "stdout",
     "output_type": "stream",
     "text": [
      "<class 'dict'>\n",
      "{'parameter2': 2.0, 'parameter1': 1.0, 'parameter3': 3.0}\n"
     ]
    }
   ],
   "source": [
    "params = { \"parameter1\" : 1.0,\n",
    "           \"parameter2\" : 2.0,\n",
    "           \"parameter3\" : 3.0 }\n",
    "\n",
    "print(type(params))\n",
    "print(params)"
   ]
  },
  {
   "cell_type": "code",
   "execution_count": 67,
   "metadata": {},
   "outputs": [
    {
     "name": "stdout",
     "output_type": "stream",
     "text": [
      "1.0\n"
     ]
    }
   ],
   "source": [
    "# To retrieve the value associated with a key, you can use the same square bracket notation as with a list\n",
    "# However, this time the value between the square brackets is not the index of the value, but the key it was given\n",
    "param1 = params[\"parameter1\"]\n",
    "print(param1)"
   ]
  },
  {
   "cell_type": "code",
   "execution_count": 68,
   "metadata": {},
   "outputs": [
    {
     "name": "stdout",
     "output_type": "stream",
     "text": [
      "{'parameter2': 'B', 'parameter1': 'A', 'parameter4': 'D', 'parameter3': 'C'}\n"
     ]
    }
   ],
   "source": [
    "# You can overwrite values from a dictionary by simply accessing them and immediately assigning them a new value\n",
    "params[\"parameter1\"] = \"A\"\n",
    "params[\"parameter2\"] = \"B\"\n",
    "params[\"parameter3\"] = \"C\"\n",
    "\n",
    "# This works the same when adding a new key-value pair to the dictionary\n",
    "params[\"parameter4\"] = \"D\"\n",
    "\n",
    "print(params)"
   ]
  },
  {
   "cell_type": "markdown",
   "metadata": {},
   "source": [
    "You might have noticed that the order in which we add elements to the dictionary is not necessarily the order in which they are stored. Dictionaries in Python are unordered."
   ]
  },
  {
   "cell_type": "markdown",
   "metadata": {},
   "source": [
    "## Conditional statements"
   ]
  },
  {
   "cell_type": "markdown",
   "metadata": {},
   "source": [
    "Conditional statements are not very different from MATLAB.\n"
   ]
  },
  {
   "cell_type": "code",
   "execution_count": 69,
   "metadata": {},
   "outputs": [
    {
     "name": "stdout",
     "output_type": "stream",
     "text": [
      "x is 5\n"
     ]
    }
   ],
   "source": [
    "x = 5\n",
    "\n",
    "if x == 5:\n",
    "    print(\"x is 5\")\n",
    "elif x == 7:\n",
    "    print(\"x is 7\")\n",
    "else:\n",
    "    print(\"x is different\")"
   ]
  },
  {
   "cell_type": "markdown",
   "metadata": {},
   "source": [
    "## Loops"
   ]
  },
  {
   "cell_type": "markdown",
   "metadata": {},
   "source": [
    "In Python, loops can be programmed in a number of different ways. The most common is the `for` loop, which is used together with iterable objects, such as lists. The basic syntax is:"
   ]
  },
  {
   "cell_type": "markdown",
   "metadata": {},
   "source": [
    "### **`for` loops**:"
   ]
  },
  {
   "cell_type": "code",
   "execution_count": 70,
   "metadata": {},
   "outputs": [
    {
     "name": "stdout",
     "output_type": "stream",
     "text": [
      "1\n",
      "2\n",
      "3\n"
     ]
    }
   ],
   "source": [
    "for x in [1, 2, 3]:\n",
    "    print(x)"
   ]
  },
  {
   "cell_type": "markdown",
   "metadata": {},
   "source": [
    "The `for` loop iterates over the elements of the supplied list, and executes the containing block once for each element. Any kind of list can be used in the `for` loop. For example:"
   ]
  },
  {
   "cell_type": "code",
   "execution_count": 72,
   "metadata": {},
   "outputs": [
    {
     "name": "stdout",
     "output_type": "stream",
     "text": [
      "0\n",
      "1\n",
      "2\n",
      "3\n"
     ]
    }
   ],
   "source": [
    "# By default range starts at 0\n",
    "for x in range(4): \n",
    "    print(x)"
   ]
  },
  {
   "cell_type": "markdown",
   "metadata": {},
   "source": [
    "Note: `range(4)` does not include 4!"
   ]
  },
  {
   "cell_type": "code",
   "execution_count": 94,
   "metadata": {},
   "outputs": [
    {
     "name": "stdout",
     "output_type": "stream",
     "text": [
      "-3\n",
      "-2\n",
      "-1\n",
      "0\n",
      "1\n",
      "2\n"
     ]
    }
   ],
   "source": [
    "for x in range(-3,3):\n",
    "    print(x)"
   ]
  },
  {
   "cell_type": "code",
   "execution_count": 95,
   "metadata": {},
   "outputs": [
    {
     "name": "stdout",
     "output_type": "stream",
     "text": [
      "scientific\n",
      "computing\n",
      "with\n",
      "python\n"
     ]
    }
   ],
   "source": [
    "for word in [\"scientific\", \"computing\", \"with\", \"python\"]:\n",
    "    print(word)"
   ]
  },
  {
   "cell_type": "markdown",
   "metadata": {},
   "source": [
    "To iterate over key-value pairs of a dictionary:"
   ]
  },
  {
   "cell_type": "code",
   "execution_count": 73,
   "metadata": {},
   "outputs": [
    {
     "name": "stdout",
     "output_type": "stream",
     "text": [
      "parameter2 = B\n",
      "parameter1 = A\n",
      "parameter4 = D\n",
      "parameter3 = C\n"
     ]
    }
   ],
   "source": [
    "for key, value in params.items():\n",
    "    print(key + \" = \" + str(value))"
   ]
  },
  {
   "cell_type": "markdown",
   "metadata": {},
   "source": [
    "The above example works because `params.items()` returns all items from the dictionary as a tuple with two values, `key` and `value`."
   ]
  },
  {
   "cell_type": "markdown",
   "metadata": {},
   "source": [
    "### `while` loops"
   ]
  },
  {
   "cell_type": "markdown",
   "metadata": {},
   "source": [
    "A `while` loop in Python functions the same as in MATLAB: as long as the given logical statement is `True`, it keeps running the code."
   ]
  },
  {
   "cell_type": "code",
   "execution_count": 75,
   "metadata": {},
   "outputs": [
    {
     "name": "stdout",
     "output_type": "stream",
     "text": [
      "5\n",
      "6\n",
      "7\n",
      "8\n",
      "9\n"
     ]
    }
   ],
   "source": [
    "x = 5\n",
    "\n",
    "while x < 10:\n",
    "    print(x)\n",
    "    x = x + 1"
   ]
  },
  {
   "cell_type": "markdown",
   "metadata": {},
   "source": [
    "Some code snippets with `for` and `while` loops containing conditional statements.\n"
   ]
  },
  {
   "cell_type": "code",
   "execution_count": 77,
   "metadata": {},
   "outputs": [
    {
     "name": "stdout",
     "output_type": "stream",
     "text": [
      "The list is smaller than 10 elements\n",
      "1\n",
      "2\n",
      "5\n",
      "6\n",
      "8\n",
      "7\n",
      "47\n",
      "1\n",
      "2\n",
      "5\n",
      "6\n",
      "8\n",
      "7\n",
      "47\n"
     ]
    }
   ],
   "source": [
    "input_list  = [1, 2, 5, 6, 8, 7, 47]\n",
    "\n",
    "def test_function(input):\n",
    "    # First, we check if the list has exactly 10 elements\n",
    "    if len(input) == 10:\n",
    "        print(\"the list has exactly 10 elements!\")\n",
    "        \n",
    "    # If the above condition is not true, we check if the list has less than 10 elements\n",
    "    elif len(input) < 10:\n",
    "        print(\"The list is smaller than 10 elements\")\n",
    "        \n",
    "    # Now, we print all values in the input list\n",
    "    for i in input:\n",
    "        print(i)\n",
    "        \n",
    "    # Again, we print all values in the input list\n",
    "    # This time we use the range notation\n",
    "    for j in range(0, len(input)):\n",
    "        print(input[j])\n",
    "        \n",
    "\n",
    "test_function(input_list)"
   ]
  },
  {
   "cell_type": "markdown",
   "metadata": {},
   "source": [
    "Try to do the exercises below. The solutions can be found at the end of this document. "
   ]
  },
  {
   "cell_type": "markdown",
   "metadata": {},
   "source": [
    "# Exercises"
   ]
  },
  {
   "cell_type": "markdown",
   "metadata": {},
   "source": [
    "### Exercise 1:\n",
    "\n",
    "Make a function that prints the numbers 0 to x, try this for x = 5, x = 10 and x = 15. You can use the stub implementation below."
   ]
  },
  {
   "cell_type": "code",
   "execution_count": 10,
   "metadata": {},
   "outputs": [
    {
     "name": "stdout",
     "output_type": "stream",
     "text": [
      "x = 5:\n",
      "No implementation yet.\n",
      "\n",
      "x = 10:\n",
      "No implementation yet.\n",
      "\n",
      "x = 15:\n",
      "No implementation yet.\n"
     ]
    }
   ],
   "source": [
    "#Function which prints all numbers from 0 to x, for every given x.\n",
    "\n",
    "def count(x):\n",
    "    # Put your implementation here.\n",
    "    print(\"No implementation yet.\")\n",
    "    \n",
    "\n",
    "print(\"x = 5:\")\n",
    "count(5)\n",
    "\n",
    "print(\"\\nx = 10:\")\n",
    "count(10)\n",
    "\n",
    "print(\"\\nx = 15:\")\n",
    "count(15)"
   ]
  },
  {
   "cell_type": "markdown",
   "metadata": {},
   "source": [
    "### Exercise 2:\n",
    "Write a Python program to get the largest number from a list. You can use the stub implementation below.\n"
   ]
  },
  {
   "cell_type": "code",
   "execution_count": 78,
   "metadata": {},
   "outputs": [
    {
     "name": "stdout",
     "output_type": "stream",
     "text": [
      "0\n"
     ]
    }
   ],
   "source": [
    "# Function which gets the largest number from a list. Don't use the standard built-in functions.\n",
    "def get_max_from_list(list):\n",
    "    max_number = 0\n",
    "    \n",
    "    # Put your implementation here.\n",
    "    \n",
    "    print(max_number)\n",
    "    \n",
    "list = [1, 2, 3, 4, 5, 6, 70, 8, 9, 10] # Correct answer should be 70.\n",
    "get_max_from_list(list)"
   ]
  },
  {
   "cell_type": "markdown",
   "metadata": {},
   "source": [
    "### Exercise 3:\n",
    "Write a Python program that sums all items in a list. You can use the stub implementation below.\n"
   ]
  },
  {
   "cell_type": "code",
   "execution_count": 80,
   "metadata": {},
   "outputs": [
    {
     "name": "stdout",
     "output_type": "stream",
     "text": [
      "No implementation yet.\n",
      "Sum = None\n"
     ]
    }
   ],
   "source": [
    "# Function that sums all items in a given list. Don't use the standard built-in functions.\n",
    "def my_sum(list_of_numbers):\n",
    "    \n",
    "    #Put your implementation here.\n",
    "    print(\"No implementation yet.\")\n",
    "    \n",
    "    \n",
    "list_of_numbers = [1, 2, 3, 4, 5, 6, 7, 8, 9] # Sum = 45\n",
    "\n",
    "print(\"Sum =\", my_sum(list_of_numbers))"
   ]
  },
  {
   "cell_type": "markdown",
   "metadata": {},
   "source": [
    "### Exercise 4:\n",
    "Write a Python program that removes all duplicates from a list. You can use the stub implementation below."
   ]
  },
  {
   "cell_type": "code",
   "execution_count": 33,
   "metadata": {},
   "outputs": [
    {
     "name": "stdout",
     "output_type": "stream",
     "text": [
      "[]\n"
     ]
    }
   ],
   "source": [
    "# Function that removes duplicates from a list.\n",
    "def remove_duplicates(list_of_numbers):\n",
    "    result = []\n",
    "    \n",
    "    # Put your implementation here.\n",
    "    \n",
    "    print(result)\n",
    "\n",
    "list_of_numbers = [1,2,2,3,4,5,5,5,6,7,8,8,9,9,10,2,3,4,5,6,7]\n",
    "remove_duplicates(list_of_numbers)"
   ]
  },
  {
   "cell_type": "markdown",
   "metadata": {},
   "source": [
    "### Exercise 5\n",
    "Write a Python program to compute the frequency of the different words from the input. You can use the stub implementation below.\n",
    "\n",
    "The following input is supplied to the program:\n",
    "`DAF trucks DAF trucks fantastisch goede DAF trucks`\n",
    "\n",
    "The output of your program should be:\n",
    "* DAF: 3\n",
    "* trucks: 3\n",
    "* goede: 1\n",
    "* fantastisch: 1\n"
   ]
  },
  {
   "cell_type": "code",
   "execution_count": 90,
   "metadata": {
    "scrolled": true
   },
   "outputs": [
    {
     "name": "stdout",
     "output_type": "stream",
     "text": [
      "{}\n"
     ]
    }
   ],
   "source": [
    "input = \"DAF trucks DAF trucks fantastisch goede DAF trucks\"\n",
    "\n",
    "# Function that counts the frequency of all the different words in the input string\n",
    "# HINT: Use a dictionary to keep track of the different words and how many times you have encountered them\n",
    "# HINT: Use input.split() to transform the input string to a list where each word is an element\n",
    "def word_frequency(input):\n",
    "    freq = {}\n",
    "    list_of_words = input.split()\n",
    "    \n",
    "    print(freq)\n",
    "\n",
    "word_frequency(input)"
   ]
  },
  {
   "cell_type": "markdown",
   "metadata": {},
   "source": [
    "### Bonus Exercise"
   ]
  },
  {
   "cell_type": "markdown",
   "metadata": {},
   "source": [
    "Write a Python program that prints the first N Fibonnaci digits."
   ]
  },
  {
   "cell_type": "code",
   "execution_count": 104,
   "metadata": {},
   "outputs": [
    {
     "name": "stdout",
     "output_type": "stream",
     "text": [
      "No implementation yet\n"
     ]
    }
   ],
   "source": [
    "# Function that prints the first N Fibonacci numbers\n",
    "def print_fibonnaci(n):\n",
    "    print(\"No implementation yet\")\n",
    "\n",
    "    \n",
    "print_fibonnaci(10)"
   ]
  },
  {
   "cell_type": "markdown",
   "metadata": {},
   "source": [
    "# Solutions"
   ]
  },
  {
   "cell_type": "markdown",
   "metadata": {},
   "source": [
    "### Exercise 1"
   ]
  },
  {
   "cell_type": "code",
   "execution_count": 101,
   "metadata": {
    "scrolled": true
   },
   "outputs": [
    {
     "name": "stdout",
     "output_type": "stream",
     "text": [
      "Counting 1...\n",
      "0\n",
      "1\n",
      "2\n",
      "3\n",
      "4\n",
      "5\n",
      "\n",
      "Counting 2...\n",
      "0\n",
      "1\n",
      "2\n",
      "3\n",
      "4\n",
      "5\n"
     ]
    }
   ],
   "source": [
    "# Solution 1\n",
    "def count(x):\n",
    "    a = 0\n",
    "    while a <= x:\n",
    "        print(a)\n",
    "        a = a + 1\n",
    "        \n",
    "# Solution 2\n",
    "def count_2(x):\n",
    "    for i in range(0, x+1):\n",
    "        print(i)\n",
    "\n",
    "print(\"Counting 1...\")\n",
    "count(5)\n",
    "\n",
    "print(\"\\nCounting 2...\")\n",
    "count_2(5)"
   ]
  },
  {
   "cell_type": "markdown",
   "metadata": {},
   "source": [
    "### Exercise 2"
   ]
  },
  {
   "cell_type": "code",
   "execution_count": 100,
   "metadata": {},
   "outputs": [
    {
     "name": "stdout",
     "output_type": "stream",
     "text": [
      "Using iteration:\n",
      "Max:  70\n",
      "\n",
      "Using length of list:\n",
      "Max:  70\n"
     ]
    }
   ],
   "source": [
    "# Different implementations are possible. You find a few below.\n",
    "\n",
    "# Function which gets the largest number from a list using list iteration (for item in list).\n",
    "def get_max_from_list(list_of_values):\n",
    "    max_number = list_of_values[0]\n",
    "    for item in list_of_values:\n",
    "        if item > max_number:\n",
    "            max_number = item\n",
    "    print(\"Max: \", max_number)\n",
    "    \n",
    "# Function which picks al items from a list based on the length of the list.\n",
    "def get_max_from_list_2(list_of_values):\n",
    "    max_number = list_of_values[0]\n",
    "    length_of_list = len(list_of_values)\n",
    "    \n",
    "    for i in range(0, length_of_list):\n",
    "        \n",
    "        if list_of_values[i] > max_number:\n",
    "            max_number = list_of_values[i]\n",
    "        \n",
    "    print(\"Max: \", max_number)\n",
    "    \n",
    "values = [1,2,3,4,5,6,70,8,9,10]\n",
    "\n",
    "print(\"Using iteration:\")\n",
    "get_max_from_list(values)\n",
    "print(\"\\nUsing length of list:\")\n",
    "get_max_from_list_2(values)"
   ]
  },
  {
   "cell_type": "markdown",
   "metadata": {},
   "source": [
    "### Exercise 3"
   ]
  },
  {
   "cell_type": "code",
   "execution_count": 99,
   "metadata": {},
   "outputs": [
    {
     "name": "stdout",
     "output_type": "stream",
     "text": [
      "Sum = 45\n",
      "Sum = 45\n"
     ]
    }
   ],
   "source": [
    "# Function that sums all items in a given list. This one uses list iteration.\n",
    "def my_sum(list_of_numbers):\n",
    "    solution = 0\n",
    "    \n",
    "    for item in list_of_numbers:\n",
    "        solution = solution + item\n",
    "    \n",
    "    print('Sum =', solution)\n",
    "    \n",
    "# Function that sums all items in a given list. This one uses \n",
    "def my_sum_2(list_of_numbers):\n",
    "    solution = 0\n",
    "    length_of_list = len(list_of_numbers)\n",
    "    \n",
    "    for i in range(0, length_of_list):\n",
    "        solution = solution + list_of_numbers[i]\n",
    "    \n",
    "    print('Sum =', solution)\n",
    "    \n",
    "    \n",
    "list_of_numbers = [1,2,3,4,5,6,7,8,9] # Sum = 45\n",
    "\n",
    "my_sum(list_of_numbers)\n",
    "my_sum_2(list_of_numbers)"
   ]
  },
  {
   "cell_type": "markdown",
   "metadata": {},
   "source": [
    "### Exercise 4"
   ]
  },
  {
   "cell_type": "code",
   "execution_count": 92,
   "metadata": {},
   "outputs": [
    {
     "name": "stdout",
     "output_type": "stream",
     "text": [
      "[1, 2, 3, 4, 5, 6, 7, 8, 9, 10]\n"
     ]
    }
   ],
   "source": [
    "# Function that removes duplicates from a list.\n",
    "def remove_duplicates(list_of_numbers):\n",
    "    result = []\n",
    "    \n",
    "    for item in list_of_numbers:\n",
    "        if item not in result:\n",
    "            result.append(item)\n",
    "    \n",
    "    print(result)\n",
    "\n",
    "list_of_numbers = [1,2,2,3,4,5,5,5,6,7,8,8,9,9,10,2,3,4,5,6,7]\n",
    "remove_duplicates(list_of_numbers)"
   ]
  },
  {
   "cell_type": "markdown",
   "metadata": {},
   "source": [
    "### Exercise 5"
   ]
  },
  {
   "cell_type": "code",
   "execution_count": 89,
   "metadata": {},
   "outputs": [
    {
     "name": "stdout",
     "output_type": "stream",
     "text": [
      "DAF 3\n",
      "trucks 3\n",
      "goede 1\n",
      "fantastisch 1\n"
     ]
    }
   ],
   "source": [
    "input = \"DAF trucks DAF trucks fantastisch goede DAF trucks\"\n",
    "\n",
    "# Function that counts the frequency of all the different words in the input string\n",
    "def word_frequency(input):\n",
    "    freq = {}\n",
    "    list_of_words = input.split()\n",
    "    \n",
    "    for word in list_of_words:\n",
    "        if word in freq:\n",
    "            freq[word] = freq[word] + 1\n",
    "        else:\n",
    "            freq[word] = 1\n",
    "\n",
    "    for key, value in freq.items():\n",
    "        print(key, value)\n",
    "        \n",
    "word_frequency(input)"
   ]
  },
  {
   "cell_type": "code",
   "execution_count": 91,
   "metadata": {},
   "outputs": [
    {
     "name": "stdout",
     "output_type": "stream",
     "text": [
      "1\n",
      "2\n",
      "3\n",
      "5\n",
      "8\n",
      "13\n",
      "21\n",
      "34\n",
      "55\n",
      "89\n"
     ]
    }
   ],
   "source": [
    "# Function that prints the first N Fibonacci numbers\n",
    "def print_fibonnaci(n):\n",
    "    a = 0\n",
    "    b = 1\n",
    "    \n",
    "    result = 0\n",
    "    \n",
    "    for i in range(0, n):\n",
    "        result = a + b\n",
    "        a = b\n",
    "        b = result\n",
    "        print(result)\n",
    "        \n",
    "print_fibonnaci(10)"
   ]
  },
  {
   "cell_type": "code",
   "execution_count": null,
   "metadata": {
    "collapsed": true
   },
   "outputs": [],
   "source": []
  }
 ],
 "metadata": {
  "kernelspec": {
   "display_name": "Python 3",
   "language": "python",
   "name": "python3"
  },
  "language_info": {
   "codemirror_mode": {
    "name": "ipython",
    "version": 3
   },
   "file_extension": ".py",
   "mimetype": "text/x-python",
   "name": "python",
   "nbconvert_exporter": "python",
   "pygments_lexer": "ipython3",
   "version": "3.6.3"
  }
 },
 "nbformat": 4,
 "nbformat_minor": 1
}
