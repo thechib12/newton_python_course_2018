{
 "cells": [
  {
   "cell_type": "markdown",
   "metadata": {
    "collapsed": true
   },
   "source": [
    "# Python Course for Newton: Part II\n",
    "\n"
   ]
  },
  {
   "cell_type": "markdown",
   "metadata": {},
   "source": [
    "## Numpy  \n",
    "Numpy makes it easier to work with multidimensional data. Some of the basics are shown below, but do have a look at the official documentation: https://docs.scipy.org/doc/numpy/user/index.html"
   ]
  },
  {
   "cell_type": "code",
   "execution_count": 1,
   "metadata": {},
   "outputs": [],
   "source": [
    "import numpy as np"
   ]
  },
  {
   "cell_type": "code",
   "execution_count": 18,
   "metadata": {},
   "outputs": [
    {
     "name": "stdout",
     "output_type": "stream",
     "text": [
      "[11 21  9]\n",
      "[[ 1  4  9  1]\n",
      " [ 9  4 25  4]\n",
      " [ 0 16  1  4]]\n",
      "[[1 3 0]\n",
      " [2 2 4]\n",
      " [3 5 1]\n",
      " [1 2 2]]\n"
     ]
    }
   ],
   "source": [
    "# Initialize a matrix\n",
    "A = np.array([[1, 2, 3, 1],\n",
    "              [3, 2, 5, 2],\n",
    "              [0, 4, 1, 2]])\n",
    "\n",
    "# Initialize a vector\n",
    "B = np.array([4, 2, 1, 0])\n",
    "\n",
    "# Compute the dot product of A and B\n",
    "print(np.dot(A, B))\n",
    "\n",
    "# Numpy makes it easy to do arithmetic on each individual element in the matrix\n",
    "print(A ** 2)\n",
    "\n",
    "# Compute the transpose matrix\n",
    "print(A.T)\n"
   ]
  },
  {
   "cell_type": "markdown",
   "metadata": {},
   "source": [
    "### Matrix manipulation  \n",
    "\n",
    "Define a function that, given a matrix A, returns the same matrix but with the last row and column omitted. So,  \n",
    "\\[\\[ 1,  2,  3,  4\\],  \n",
    "  \\[ 5,  6,  7,  8\\],  \n",
    "  \\[ 9, 10, 11, 12\\]\\]  \n",
    "gives  \n",
    "\\[\\[ 1,  2,  3\\],  \n",
    "  \\[ 5,  6,  7\\]\\]\n",
    "\n"
   ]
  },
  {
   "cell_type": "code",
   "execution_count": null,
   "metadata": {},
   "outputs": [],
   "source": [
    "def omit_last_row_column(A):\n",
    "    pass  # Replace this line with your implementation!"
   ]
  },
  {
   "cell_type": "code",
   "execution_count": null,
   "metadata": {},
   "outputs": [],
   "source": []
  },
  {
   "cell_type": "markdown",
   "metadata": {},
   "source": [
    "### Loading data\n",
    "\n",
    "Now we have seen basic interaction with the data structures of NumPy. Now we are going to use NumPy for loading data from text files. In the `iris` folder, you will find a file called `iris.txt`. Open this file and see its content. Can you see what `delimiter` is used? What data types does this file contain?\n",
    "\n",
    "\n",
    "\n",
    "** Exercise ** Load the Iris data set using NumPy's `loadtxt` function into a variable. Make sure you use the right parameters. Then print the first row of the data.  "
   ]
  },
  {
   "cell_type": "code",
   "execution_count": null,
   "metadata": {},
   "outputs": [],
   "source": [
    "# Your code here"
   ]
  },
  {
   "cell_type": "markdown",
   "metadata": {},
   "source": [
    "### Writing data\n",
    "\n",
    "After you have completed the previous exercise, we now want to write the data back to a new file. NumPy has a convinient method `savetxt` to do this. Before doing the exercise, look at the documentation of the `savetxt` function to see which parameters you can use. [Documentation here](https://docs.scipy.org/doc/numpy/reference/generated/numpy.savetxt.html)\n",
    "\n",
    "** Exercise ** Save the previously created array to a new file in the `iris` folder. This time we only want the second column of the array *Hint: Remember from the lecture how to return specific columns.* ** DO NOT CALL THIS `iris.txt`, you will need the original data later!**"
   ]
  },
  {
   "cell_type": "code",
   "execution_count": null,
   "metadata": {},
   "outputs": [],
   "source": [
    "# Your code here"
   ]
  },
  {
   "cell_type": "markdown",
   "metadata": {},
   "source": [
    "### Statistical functions\n",
    "\n",
    "**Exercise** Print the mean, minimum, maximum, standard deviation of the columns of the iris data set. Remember the `axis` parameter."
   ]
  },
  {
   "cell_type": "code",
   "execution_count": 34,
   "metadata": {},
   "outputs": [],
   "source": [
    "# Your code here"
   ]
  },
  {
   "cell_type": "markdown",
   "metadata": {},
   "source": [
    "## Matplotlib\n",
    "\n",
    "### Line plot\n",
    "\n",
    "From this section, we are going to use another Python library: `pandas`. This library bundles a lot of helpful tools to read data and deal with missing data. \n",
    "\n",
    "In order to use the data in the `climate-change-earth-surface-temperature-data` folder, we need `pandas` to load the data, because it takes care of the missing data and interpretation of the dates. This exercise will use the CSV file `GlobalTemperatures.csv`, which contains the global temperature data starting from 1750. Open this file in Notepad or another simple text editor to see how this file is structured.\n",
    "\n",
    "**Exercise** Plot a line graph with the time on the x-axis and \"LandTemperatures\" on the y-axis. The matrix with the necessary data is stored in the `temperature` variable. Make sure you include a title and labels for the x and y axis. *Hint: Start by printing the shape of the data and compare it to the CSV file.*"
   ]
  },
  {
   "cell_type": "code",
   "execution_count": 23,
   "metadata": {},
   "outputs": [],
   "source": [
    "# This part is given\n",
    "\n",
    "import pandas as pd\n",
    "import matplotlib.pyplot as plt\n",
    "import numpy as np\n",
    "%matplotlib inline\n",
    "df = pd.read_csv(\"climate-change-earth-surface-temperature-data/GlobalTemperatures.csv\", delimiter=\",\",  parse_dates=[0], infer_datetime_format=True)\n",
    "temperatures = df.as_matrix()\n",
    "\n",
    "# Place your code below\n",
    "\n"
   ]
  },
  {
   "cell_type": "markdown",
   "metadata": {},
   "source": [
    "### Trend line\n",
    "\n",
    "After completing the previous exercise, you will notice that there is a lot of data. Not very useful to to detect trends. Now the data is grouped by year and given to you in the `yearly_temps` variable.\n",
    "\n",
    "It would be useful to display a trend line. The NumPy function `np.polyfit(x, y, order)` can create such a trend line. However, using dates requires conversion to work properly. Therefore the variable `x_dates` is given. The code snippet below is given to help you create the trendline.\n",
    "\n",
    "```python\n",
    "a = np.polyfit(x_dates, y, order)\n",
    "trendline = np.poly1d(a)(x_dates)\n",
    "```\n",
    "\n",
    "This creates an array `trendline`. You can use this variable to plot a line.\n",
    "\n",
    "**Exercise** Repeat the previous exercise and plot a trend line using the snippet above where you fill in the  `y` parameter with the correct array and fill in different `order` values to create different kind of trend lines."
   ]
  },
  {
   "cell_type": "code",
   "execution_count": 24,
   "metadata": {},
   "outputs": [],
   "source": [
    "# This part is given\n",
    "\n",
    "df_yearly = df.groupby(pd.Grouper(key='dt', freq='1y')).mean()\n",
    "yearly_temps = df_yearly.reset_index().as_matrix()\n",
    "x_dates = range(yearly_temps.shape[0])\n",
    "\n",
    "# Place your code below\n"
   ]
  },
  {
   "cell_type": "markdown",
   "metadata": {},
   "source": [
    "### Scatter plot\n",
    "\n",
    "Recall the previous `iris.txt` data set. We are going to visualize the relation between two variables in the data set. \n",
    "\n",
    "**Exercise** Use matplotlibs function `plt.scatter` to make a scatter plot to visualize the relation between the second column and the fourth column of the array. Make sure you include a title and labels."
   ]
  },
  {
   "cell_type": "code",
   "execution_count": 29,
   "metadata": {},
   "outputs": [
    {
     "data": {
      "text/plain": [
       "<matplotlib.collections.PathCollection at 0x10e1d6828>"
      ]
     },
     "execution_count": 29,
     "metadata": {},
     "output_type": "execute_result"
    },
    {
     "data": {
      "image/png": "[encoded data removed]",
      "text/plain": [
       "<matplotlib.figure.Figure at 0x10dcd6e10>"
      ]
     },
     "metadata": {},
     "output_type": "display_data"
    }
   ],
   "source": [
    "# Your code here"
   ]
  },
  {
   "cell_type": "markdown",
   "metadata": {},
   "source": [
    "#### Bonus\n",
    "\n",
    "After completing the previous exercise, you will notice a clear separation in the data.\n",
    "\n",
    "**Exercise** Repeat the previous exercise and add a line to plot to indicate the separation that exists in the data"
   ]
  },
  {
   "cell_type": "code",
   "execution_count": 30,
   "metadata": {},
   "outputs": [],
   "source": [
    "# Your code here"
   ]
  },
  {
   "cell_type": "markdown",
   "metadata": {},
   "source": [
    "## Scipy\n",
    "\n",
    "### Integration\n",
    "\n",
    "Remember from the first exercise session how you could create functions. Now we will use function in a mathematical way, by integrating the function on a given interval. SciPy's `quad` function does this for you. Have a look at the [documentation](https://docs.scipy.org/doc/scipy-0.14.0/reference/generated/scipy.integrate.quad.html) for the parameters.\n",
    "\n",
    "**Exercise** Define your own function and integrate this function on the interval `[0,1]`. For example the function `y=x`. Print the result of the integration and interpret the results. \n"
   ]
  },
  {
   "cell_type": "code",
   "execution_count": 42,
   "metadata": {},
   "outputs": [],
   "source": [
    "# This code is given\n",
    "\n",
    "from scipy.integrate import quad\n",
    "\n",
    "# Your code here\n",
    "\n"
   ]
  },
  {
   "cell_type": "markdown",
   "metadata": {},
   "source": [
    "## Solutions"
   ]
  },
  {
   "cell_type": "markdown",
   "metadata": {},
   "source": [
    "### Matrix manipulation"
   ]
  },
  {
   "cell_type": "code",
   "execution_count": 17,
   "metadata": {},
   "outputs": [
    {
     "name": "stdout",
     "output_type": "stream",
     "text": [
      "[[1 2 3]\n",
      " [5 6 7]]\n"
     ]
    }
   ],
   "source": [
    "a = np.array([[ 1, 2, 3, 4],\n",
    "              [ 5, 6, 7, 8],\n",
    "              [ 9, 10, 11, 12]])\n",
    "\n",
    "def omit_last_row_column(A):\n",
    "    return A[:-1, :-1]\n",
    "\n",
    "# Or alternatively,\n",
    "\n",
    "def omit_last_row_column(A):\n",
    "    rows, columns = A.shape\n",
    "    result = np.zeros(shape=(rows - 1, columns - 1))\n",
    "    for row in range(rows - 1):\n",
    "        for column in range(columns - 1):\n",
    "            result[row, column] = A[row, column]\n",
    "    return result\n",
    "\n",
    "print(omit_last_row_column(a))"
   ]
  },
  {
   "cell_type": "markdown",
   "metadata": {},
   "source": [
    "### Loading data\n"
   ]
  },
  {
   "cell_type": "code",
   "execution_count": 20,
   "metadata": {},
   "outputs": [
    {
     "name": "stdout",
     "output_type": "stream",
     "text": [
      "[5.1 3.5 1.4 0.2]\n"
     ]
    }
   ],
   "source": [
    "import numpy as np\n",
    "\n",
    "a = np.loadtxt('iris/iris.txt', delimiter=',')\n",
    "print(a[0])"
   ]
  },
  {
   "cell_type": "markdown",
   "metadata": {},
   "source": [
    "### Writing data"
   ]
  },
  {
   "cell_type": "code",
   "execution_count": 19,
   "metadata": {},
   "outputs": [],
   "source": [
    "import numpy as np\n",
    "\n",
    "a = np.loadtxt('iris/iris.txt', delimiter=',')\n",
    "np.savetxt('iris/1.txt', a[:,1], delimiter=',')"
   ]
  },
  {
   "cell_type": "markdown",
   "metadata": {},
   "source": [
    "### Statistical Functions"
   ]
  },
  {
   "cell_type": "code",
   "execution_count": 35,
   "metadata": {},
   "outputs": [
    {
     "name": "stdout",
     "output_type": "stream",
     "text": [
      "[5.84333333 3.054      3.75866667 1.19866667]\n",
      "[4.3 2.  1.  0.1]\n",
      "[7.9 4.4 6.9 2.5]\n",
      "[0.82530129 0.43214658 1.75852918 0.76061262]\n"
     ]
    }
   ],
   "source": [
    "import numpy as np\n",
    "\n",
    "a = np.loadtxt('iris/iris.txt', delimiter=',')\n",
    "print(np.mean(a, axis=0))\n",
    "print(np.min(a, axis=0))\n",
    "print(np.max(a, axis=0))\n",
    "print(np.std(a, axis=0))"
   ]
  },
  {
   "cell_type": "markdown",
   "metadata": {},
   "source": [
    "### Line plot"
   ]
  },
  {
   "cell_type": "code",
   "execution_count": 31,
   "metadata": {},
   "outputs": [
    {
     "data": {
      "image/png": "[encoded data removed]",
      "text/plain": [
       "<matplotlib.figure.Figure at 0x10d325cf8>"
      ]
     },
     "metadata": {},
     "output_type": "display_data"
    }
   ],
   "source": [
    "# This part is given\n",
    "\n",
    "import pandas as pd\n",
    "import matplotlib.pyplot as plt\n",
    "import numpy as np\n",
    "%matplotlib inline\n",
    "df = pd.read_csv(\"climate-change-earth-surface-temperature-data/GlobalTemperatures.csv\", delimiter=\",\",  parse_dates=[0], infer_datetime_format=True)\n",
    "temperatures = df.as_matrix()\n",
    "\n",
    "# Place your code below\n",
    "\n",
    "plt.plot(temperatures[:, 0], temperatures[:, 1])\n",
    "plt.show()"
   ]
  },
  {
   "cell_type": "markdown",
   "metadata": {},
   "source": [
    "### Trend line"
   ]
  },
  {
   "cell_type": "code",
   "execution_count": 37,
   "metadata": {},
   "outputs": [
    {
     "data": {
      "image/png": "[encoded data removed]",
      "text/plain": [
       "<matplotlib.figure.Figure at 0x10dd6e358>"
      ]
     },
     "metadata": {},
     "output_type": "display_data"
    }
   ],
   "source": [
    "# This part is given\n",
    "import pandas as pd\n",
    "import matplotlib.pyplot as plt\n",
    "import numpy as np\n",
    "%matplotlib inline\n",
    "df_yearly = df.groupby(pd.Grouper(key='dt', freq='1y')).mean()\n",
    "yearly_temps = df_yearly.reset_index().as_matrix()\n",
    "x_dates = range(yearly_temps.shape[0])\n",
    "\n",
    "# Place your code below\n",
    "\n",
    "plt.plot(yearly_temps[:, 0], yearly_temps[:, 1])\n",
    "a = np.polyfit(x_dates, yearly_temps[:, 1], 1)\n",
    "trendline = np.poly1d(a)(x_dates)\n",
    "plt.plot(yearly_temps[:, 0], trendline)\n",
    "plt.show()"
   ]
  },
  {
   "cell_type": "markdown",
   "metadata": {},
   "source": [
    "### Scatter plot"
   ]
  },
  {
   "cell_type": "code",
   "execution_count": null,
   "metadata": {},
   "outputs": [],
   "source": [
    "import matplotlib.pyplot as plt\n",
    "\n",
    "a = np.loadtxt('iris/iris.txt', delimiter=',')\n",
    "\n",
    "plt.scatter(a[:, 1], a[:, 3])\n",
    "plt.show()"
   ]
  },
  {
   "cell_type": "markdown",
   "metadata": {},
   "source": [
    "### Integration"
   ]
  },
  {
   "cell_type": "code",
   "execution_count": null,
   "metadata": {},
   "outputs": [],
   "source": [
    "# This code is given\n",
    "\n",
    "from scipy.integrate import quad\n",
    "\n",
    "# Your code here\n",
    "\n",
    "def func(x):\n",
    "    return x + 3\n",
    "\n",
    "print(quad(func, 0, 2))"
   ]
  }
 ],
 "metadata": {
  "kernelspec": {
   "display_name": "Python 3",
   "language": "python",
   "name": "python3"
  },
  "language_info": {
   "codemirror_mode": {
    "name": "ipython",
    "version": 3
   },
   "file_extension": ".py",
   "mimetype": "text/x-python",
   "name": "python",
   "nbconvert_exporter": "python",
   "pygments_lexer": "ipython3",
   "version": "3.6.4"
  }
 },
 "nbformat": 4,
 "nbformat_minor": 1
}
